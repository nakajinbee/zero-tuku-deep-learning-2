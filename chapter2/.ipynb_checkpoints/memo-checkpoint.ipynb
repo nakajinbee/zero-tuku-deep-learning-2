{
 "cells": [
  {
   "cell_type": "markdown",
   "id": "2aa5e019",
   "metadata": {},
   "source": [
    "第二章　自然言語と単語の分散表現　メモ"
   ]
  },
  {
   "cell_type": "code",
   "execution_count": null,
   "id": "67081499",
   "metadata": {},
   "outputs": [],
   "source": [
    "text = 'You say goodbay and I say hello.'\n",
    "text = text.lower()\n",
    "print(text)\n",
    "text.replace('.', ' .')"
   ]
  },
  {
   "cell_type": "code",
   "execution_count": null,
   "id": "7e4869eb",
   "metadata": {},
   "outputs": [],
   "source": [
    "words = text.split(' ')\n",
    "print(words)"
   ]
  },
  {
   "cell_type": "code",
   "execution_count": null,
   "id": "098eea40",
   "metadata": {},
   "outputs": [],
   "source": [
    "word_to_id = {}\n",
    "id_to_word = {}\n",
    "\n",
    "for word in words:\n",
    "    if word not in word_to_id :\n",
    "        new_id = len(word_to_id)\n",
    "        word_to_id[word] = new_id\n",
    "        id_to_word[new_id] = word\n",
    "\n",
    "print(id_to_word[1])\n",
    "print(word_to_id['say'])"
   ]
  },
  {
   "cell_type": "code",
   "execution_count": null,
   "id": "632fd2f6",
   "metadata": {},
   "outputs": [],
   "source": [
    "import numpy as np\n",
    "corpus = [word_to_id[w] for w in words]\n",
    "corpus = np.array(corpus)\n",
    "print(corpus)"
   ]
  },
  {
   "cell_type": "code",
   "execution_count": 4,
   "id": "2ee9455e",
   "metadata": {},
   "outputs": [],
   "source": [
    "def preprocess(text):\n",
    "    text = text.lower()\n",
    "    text.replace('.', ' .')\n",
    "    words = text.split(' ')\n",
    "\n",
    "    word_to_id = {}\n",
    "    id_to_word = {}\n",
    "    for word in words:\n",
    "        if word not in word_to_id :\n",
    "            new_id = len(word_to_id)\n",
    "            word_to_id[word] = new_id\n",
    "            id_to_word[new_id] = word\n",
    "    \n",
    "#     単語IDのリスト\n",
    "    corpus = [word_to_id[w] for w in words]\n",
    "     \n",
    "    return corpus, word_to_id, id_to_word"
   ]
  },
  {
   "cell_type": "markdown",
   "id": "4decad25",
   "metadata": {},
   "source": [
    "目的：コーパスを使って単語の意味を抽出する"
   ]
  },
  {
   "cell_type": "code",
   "execution_count": 5,
   "id": "ea56c709",
   "metadata": {},
   "outputs": [
    {
     "name": "stdout",
     "output_type": "stream",
     "text": [
      "[0, 1, 2, 3, 4, 1, 5, 6]\n",
      "{0: 'you', 1: 'say', 2: 'goodbye', 3: 'adn', 4: 'i', 5: 'hello.', 6: ''}\n"
     ]
    }
   ],
   "source": [
    "text = 'You say goodbye adn I say hello. '\n",
    "corpus, word_to_id, id_to_word = preprocess(text)\n",
    "\n",
    "print(corpus)\n",
    "print(id_to_word)"
   ]
  },
  {
   "cell_type": "code",
   "execution_count": 6,
   "id": "21d6a156",
   "metadata": {},
   "outputs": [],
   "source": [
    "# コーパスから共起行列を作成する\n",
    "def create_co_matrix(corpus, vocab_size, window_size=1):\n",
    "    corpus_size = len(corpus)\n",
    "    co_matrix = np.zeros((vocab_size, vocab_size), dtype=np.int32)\n",
    "    \n",
    "    for idx, word_id in enumerate(corpus):\n",
    "        for i in range(1, window_size=1):\n",
    "            left_idx = id - i\n",
    "            raight_idx = id + i\n",
    "            \n",
    "            if left_idx >= 0:\n",
    "                left_word_id = corpus[left_idx]\n",
    "                co_matrix[word_id, left_word_id] += 1\n",
    "                \n",
    "            if right_idx < corpus_size:\n",
    "                right_word_id = corpus[right_idx]\n",
    "                co_matrix[word_id, right_word_id] +=1"
   ]
  },
  {
   "cell_type": "code",
   "execution_count": 12,
   "id": "124a22cb",
   "metadata": {},
   "outputs": [],
   "source": [
    "#  コサイン類似度（cosine similarity）\n",
    "\n",
    "def cos_similarity(x, y, eps=1e-8):\n",
    "    nx = x / (np.sqrt(np.sum(x**2)) + eps)\n",
    "    ny = y / (np.sqrt(np.sum(y**2)) + eps)\n",
    "    \n",
    "    return np.dot(nx,ny)"
   ]
  },
  {
   "cell_type": "code",
   "execution_count": null,
   "id": "2fa77d86",
   "metadata": {},
   "outputs": [],
   "source": []
  }
 ],
 "metadata": {
  "kernelspec": {
   "display_name": "Python 3 (ipykernel)",
   "language": "python",
   "name": "python3"
  },
  "language_info": {
   "codemirror_mode": {
    "name": "ipython",
    "version": 3
   },
   "file_extension": ".py",
   "mimetype": "text/x-python",
   "name": "python",
   "nbconvert_exporter": "python",
   "pygments_lexer": "ipython3",
   "version": "3.9.7"
  }
 },
 "nbformat": 4,
 "nbformat_minor": 5
}
