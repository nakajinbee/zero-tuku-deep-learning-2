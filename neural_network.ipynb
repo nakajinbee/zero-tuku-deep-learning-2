{
  "nbformat": 4,
  "nbformat_minor": 0,
  "metadata": {
    "colab": {
      "name": "neural_network.ipynb",
      "provenance": [],
      "collapsed_sections": [],
      "authorship_tag": "ABX9TyNh1xigeuqaGGYo1Omk32V7",
      "include_colab_link": true
    },
    "kernelspec": {
      "name": "python3",
      "display_name": "Python 3"
    },
    "language_info": {
      "name": "python"
    }
  },
  "cells": [
    {
      "cell_type": "markdown",
      "metadata": {
        "id": "view-in-github",
        "colab_type": "text"
      },
      "source": [
        "<a href=\"https://colab.research.google.com/github/nakajinbee/zero-tuku-deep-learning-2/blob/main/neural_network.ipynb\" target=\"_parent\"><img src=\"https://colab.research.google.com/assets/colab-badge.svg\" alt=\"Open In Colab\"/></a>"
      ]
    },
    {
      "cell_type": "code",
      "execution_count": 1,
      "metadata": {
        "id": "cm-ClMZVt0cd",
        "colab": {
          "base_uri": "https://localhost:8080/"
        },
        "outputId": "1814abc4-2344-4775-adf7-a66ac31d72ab"
      },
      "outputs": [
        {
          "output_type": "stream",
          "name": "stdout",
          "text": [
            "hの値：\n",
            "[[-2.07439765 -0.59662005 -1.29838164  1.02921246]\n",
            " [-0.06997036 -0.42510367 -1.48152235  1.30131949]\n",
            " [-0.84808991 -0.3674789  -1.52762067  1.30048861]\n",
            " [-1.86258916 -0.64083021 -1.2589198   1.00537094]\n",
            " [-3.45507327 -0.94524166 -0.95476799  0.64731298]\n",
            " [-2.77899259 -0.57771404 -1.30872928  1.00038504]\n",
            " [-1.20254129 -0.28111894 -1.60533567  1.35082893]\n",
            " [-2.6328811  -0.58959349 -1.29907401  0.99964755]\n",
            " [-3.05026141 -0.60378358 -1.28124792  0.96114852]\n",
            " [-1.60987084 -0.7073262  -1.19886551  0.96532551]]\n",
            "aの値：\n",
            "[[0.11161025 0.35511735 0.21443751 0.73676319]\n",
            " [0.48251454 0.39529613 0.18519759 0.78605697]\n",
            " [0.2998337  0.40915035 0.17834208 0.7859172 ]\n",
            " [0.13440155 0.34505889 0.2211599  0.73211326]\n",
            " [0.03061792 0.27984277 0.27792695 0.65640469]\n",
            " [0.05846999 0.35945876 0.21269956 0.73113427]\n",
            " [0.23102344 0.43017947 0.1672372  0.79426511]\n",
            " [0.067052   0.35672813 0.2143209  0.73098928]\n",
            " [0.04520619 0.35347855 0.21733788 0.7233517 ]\n",
            " [0.16660655 0.33018992 0.2316771  0.72418679]]\n",
            "sの値\n",
            "[[-1.11534556 -1.56446229 -1.27610482]\n",
            " [-1.0375676  -1.22461528 -1.53787038]\n",
            " [-1.06001069 -1.31486907 -1.48792949]\n",
            " [-1.1175068  -1.573577   -1.26329946]\n",
            " [-1.1571971  -1.84398279 -1.05048152]\n",
            " [-1.11848224 -1.59356628 -1.25954489]\n",
            " [-1.05989478 -1.31806966 -1.5046594 ]\n",
            " [-1.1191956  -1.59353665 -1.25763277]\n",
            " [-1.12208194 -1.61932174 -1.2381317 ]\n",
            " [-1.12060455 -1.59007894 -1.24316679]]\n"
          ]
        }
      ],
      "source": [
        "import numpy as np\n",
        "\n",
        "def sigmoid(x):\n",
        "  return 1 /(1 + np.exp(-x))\n",
        "\n",
        "x = np.random.randn(10, 2)\n",
        "w1 = np.random.randn(2, 4)\n",
        "b1 = np.random.randn(4)\n",
        "w2 = np.random.randn(4, 3)\n",
        "b2 = np.random.randn(3)\n",
        "\n",
        "h = np.dot(x,w1) + b1\n",
        "print(\"hの値：\")\n",
        "print(h)\n",
        "a = sigmoid(h)\n",
        "print(\"aの値：\")\n",
        "print(a)\n",
        "s = np.dot(a, w2) + b2\n",
        "print(\"sの値\")\n",
        "print(s)"
      ]
    },
    {
      "cell_type": "code",
      "source": [
        "# Sigmoidレイア \n",
        "class Sigmoid:\n",
        "  def __init__(self):\n",
        "    self.params = []\n",
        "  \n",
        "  def forward(self, x):\n",
        "    return 1/(1 + np.exp(-x))"
      ],
      "metadata": {
        "id": "osDinUWrcdG5"
      },
      "execution_count": 2,
      "outputs": []
    },
    {
      "cell_type": "code",
      "source": [
        "# 全結合層レイアであるAffineレイア\n",
        "class Affine:\n",
        "  def __init__(self, w, b):\n",
        "    self.params = [w, b]\n",
        "  \n",
        "  def forward(self,x):\n",
        "    w, b = self.params\n",
        "    out = np.dot(x, w) + b\n",
        "    return out\n",
        "    "
      ],
      "metadata": {
        "id": "7rr_QUCdd2w2"
      },
      "execution_count": 12,
      "outputs": []
    },
    {
      "cell_type": "code",
      "source": [
        "class TwoLayerNet:\n",
        "  def __init__(self, input_size, hidden_size, output_size):\n",
        "    I, H, O = input_size, hidden_size, output_size\n",
        "\n",
        "    # 重みとバイアスの初期化\n",
        "    self.layers = [\n",
        "                   Affine(w1, b1),\n",
        "                   Sigmoid(),\n",
        "                   Affine(w2, b2)\n",
        "    ]\n",
        "\n",
        "    # 全ての重みをリストにまとめる\n",
        "    self.params = []\n",
        "    for layer in self.layers:\n",
        "      self.params += layer.params\n",
        "    \n",
        "  def predict(self, x):\n",
        "    for layer in self.layers:\n",
        "      x = layer.forward(x)\n",
        "    return x\n",
        "  "
      ],
      "metadata": {
        "id": "p4uIyaHEeLFU"
      },
      "execution_count": 13,
      "outputs": []
    },
    {
      "cell_type": "code",
      "source": [
        "x = np.random.randn(10, 2)\n",
        "model = TwoLayerNet(2, 4, 3)\n",
        "s = model.predict(x)\n",
        "\n",
        "print(s)"
      ],
      "metadata": {
        "colab": {
          "base_uri": "https://localhost:8080/"
        },
        "id": "RJWOU6wFgCKe",
        "outputId": "e2eb9f18-1016-4dd5-8051-7c81f12fe95b"
      },
      "execution_count": 15,
      "outputs": [
        {
          "output_type": "stream",
          "name": "stdout",
          "text": [
            "[[-1.06955232 -1.35374389 -1.44557189]\n",
            " [-1.15637013 -1.96181552 -0.96842882]\n",
            " [-1.11067041 -1.55404196 -1.29733003]\n",
            " [-0.99770556 -1.08858873 -1.72045819]\n",
            " [-1.12561968 -1.6303288  -1.22505589]\n",
            " [-1.0918679  -1.45008665 -1.36582865]\n",
            " [-1.10517573 -1.51235295 -1.31840648]\n",
            " [-1.12137875 -1.64339535 -1.2219713 ]\n",
            " [-1.11710149 -1.60273916 -1.25667956]\n",
            " [-1.04511742 -1.2544899  -1.52438622]]\n"
          ]
        }
      ]
    },
    {
      "cell_type": "code",
      "source": [
        ""
      ],
      "metadata": {
        "id": "R790-3rlgiRD"
      },
      "execution_count": null,
      "outputs": []
    }
  ]
}