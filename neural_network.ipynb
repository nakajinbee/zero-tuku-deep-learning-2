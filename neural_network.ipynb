{
  "nbformat": 4,
  "nbformat_minor": 0,
  "metadata": {
    "colab": {
      "name": "neural_network.ipynb",
      "provenance": [],
      "collapsed_sections": [],
      "authorship_tag": "ABX9TyNh1xigeuqaGGYo1Omk32V7",
      "include_colab_link": true
    },
    "kernelspec": {
      "name": "python3",
      "display_name": "Python 3"
    },
    "language_info": {
      "name": "python"
    }
  },
  "cells": [
    {
      "cell_type": "markdown",
      "metadata": {
        "id": "view-in-github",
        "colab_type": "text"
      },
      "source": [
        "<a href=\"https://colab.research.google.com/github/nakajinbee/zero-tuku-deep-learning-2/blob/main/neural_network.ipynb\" target=\"_parent\"><img src=\"https://colab.research.google.com/assets/colab-badge.svg\" alt=\"Open In Colab\"/></a>"
      ]
    },
    {
      "cell_type": "code",
      "execution_count": null,
      "metadata": {
        "id": "cm-ClMZVt0cd"
      },
      "outputs": [],
      "source": [
        "import numpy as np\n",
        "\n",
        "def sigmoid(x):\n",
        "  return 1 /(1 + np.exp(-x))\n",
        "\n",
        "x = np.random.randn(10, 2)\n",
        "w1 = np.random.randn(2, 4)\n",
        "b1 = np.random.randn(4)\n",
        "w2 = np.random.randn(4, 3)\n",
        "b2 = np.random.randn(3)\n",
        "\n",
        "h = np.dot(x,w1) + b1\n",
        "print(\"hの値：\")\n",
        "print(h)\n",
        "a = sigmoid(h)\n",
        "print(\"aの値：\")\n",
        "print(a)\n",
        "s = np.dot(a, w2) + b2\n",
        "print(\"sの値\")\n",
        "print(s)"
      ]
    },
    {
      "cell_type": "code",
      "source": [
        "# Sigmoidレイア \n",
        "class Sigmoid:\n",
        "  def __init__(self):\n",
        "    self.params = []\n",
        "  \n",
        "  def forward(self, x):\n",
        "    return 1/(1 + np.exp(-x))"
      ],
      "metadata": {
        "id": "osDinUWrcdG5"
      },
      "execution_count": 2,
      "outputs": []
    },
    {
      "cell_type": "code",
      "source": [
        "# 全結合層レイアであるAffineレイア\n",
        "class Affine:\n",
        "  def __init__(self, w, b):\n",
        "    self.params = [w, b]\n",
        "  \n",
        "  def forward(self,x):\n",
        "    w, b = self.params\n",
        "    out = np.dot(x, w) + b\n",
        "    return out\n",
        "    "
      ],
      "metadata": {
        "id": "7rr_QUCdd2w2"
      },
      "execution_count": 12,
      "outputs": []
    },
    {
      "cell_type": "code",
      "source": [
        "class TwoLayerNet:\n",
        "  def __init__(self, input_size, hidden_size, output_size):\n",
        "    I, H, O = input_size, hidden_size, output_size\n",
        "\n",
        "    # 重みとバイアスの初期化\n",
        "    self.layers = [\n",
        "                   Affine(w1, b1),\n",
        "                   Sigmoid(),\n",
        "                   Affine(w2, b2)\n",
        "    ]\n",
        "\n",
        "    # 全ての重みをリストにまとめる\n",
        "    self.params = []\n",
        "    for layer in self.layers:\n",
        "      self.params += layer.params\n",
        "    \n",
        "  def predict(self, x):\n",
        "    for layer in self.layers:\n",
        "      x = layer.forward(x)\n",
        "    return x\n",
        "  "
      ],
      "metadata": {
        "id": "p4uIyaHEeLFU"
      },
      "execution_count": 13,
      "outputs": []
    },
    {
      "cell_type": "code",
      "source": [
        "x = np.random.randn(10, 2)\n",
        "model = TwoLayerNet(2, 4, 3)\n",
        "s = model.predict(x)\n",
        "\n",
        "print(s)"
      ],
      "metadata": {
        "id": "RJWOU6wFgCKe"
      },
      "execution_count": null,
      "outputs": []
    },
    {
      "cell_type": "code",
      "source": [
        ""
      ],
      "metadata": {
        "id": "R790-3rlgiRD"
      },
      "execution_count": null,
      "outputs": []
    }
  ]
}